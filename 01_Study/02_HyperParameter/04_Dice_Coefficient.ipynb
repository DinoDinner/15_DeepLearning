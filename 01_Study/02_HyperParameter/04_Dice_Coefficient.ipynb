{
 "cells": [
  {
   "attachments": {},
   "cell_type": "markdown",
   "metadata": {},
   "source": [
    "두 개의 세그멘테이션(분할) 결과를 비교하여 유사성을 측정"
   ]
  },
  {
   "cell_type": "code",
   "execution_count": 2,
   "metadata": {},
   "outputs": [],
   "source": [
    "import numpy as np\n",
    "import matplotlib.pyplot as plt"
   ]
  },
  {
   "attachments": {},
   "cell_type": "markdown",
   "metadata": {},
   "source": [
    "두 개의 세그멘테이션(분할) 유사성 측정 함수"
   ]
  },
  {
   "cell_type": "code",
   "execution_count": 3,
   "metadata": {},
   "outputs": [],
   "source": [
    "def dice_coefficient(pred_mask, true_mask):\n",
    "    intersection = np.logical_and(pred_mask, true_mask)\n",
    "    dice = (2.0 * intersection.sum() / (pred_mask.sum() + true_mask.sum()))\n",
    "    \n",
    "    return dice"
   ]
  },
  {
   "attachments": {},
   "cell_type": "markdown",
   "metadata": {},
   "source": [
    "시각화"
   ]
  },
  {
   "cell_type": "code",
   "execution_count": 4,
   "metadata": {},
   "outputs": [],
   "source": [
    "def plot_masks(pred_mask, true_mask):\n",
    "    plt.subplot(1,2,1)\n",
    "    plt.imshow(pred_mask, cmap='gray')\n",
    "    \n",
    "    plt.subplot(1,2,2)\n",
    "    plt.imshow(true_mask, cmap='gray')\n",
    "    plt.show()"
   ]
  },
  {
   "attachments": {},
   "cell_type": "markdown",
   "metadata": {},
   "source": [
    "데이터 생성"
   ]
  },
  {
   "cell_type": "code",
   "execution_count": 6,
   "metadata": {},
   "outputs": [],
   "source": [
    "pred_mask = np.array((\n",
    "    [0,1,1,0],\n",
    "    [1,1,0,0],\n",
    "    [0,1,1,1]\n",
    "    ))\n",
    "\n",
    "true_mask = np.array((\n",
    "    [1,1,0,0],\n",
    "    [1,0,0,0],\n",
    "    [0,1,1,1]\n",
    "    ))"
   ]
  },
  {
   "attachments": {},
   "cell_type": "markdown",
   "metadata": {},
   "source": [
    "계산 진행"
   ]
  },
  {
   "cell_type": "code",
   "execution_count": 7,
   "metadata": {},
   "outputs": [
    {
     "name": "stdout",
     "output_type": "stream",
     "text": [
      "Dice Coefficient :  0.7692307692307693\n"
     ]
    }
   ],
   "source": [
    "dice = dice_coefficient(pred_mask, true_mask)\n",
    "print('Dice Coefficient : ', dice)"
   ]
  }
 ],
 "metadata": {
  "kernelspec": {
   "display_name": "NN2",
   "language": "python",
   "name": "python3"
  },
  "language_info": {
   "codemirror_mode": {
    "name": "ipython",
    "version": 3
   },
   "file_extension": ".py",
   "mimetype": "text/x-python",
   "name": "python",
   "nbconvert_exporter": "python",
   "pygments_lexer": "ipython3",
   "version": "3.11.4"
  },
  "orig_nbformat": 4
 },
 "nbformat": 4,
 "nbformat_minor": 2
}
