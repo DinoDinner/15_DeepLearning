{
 "cells": [
  {
   "attachments": {},
   "cell_type": "markdown",
   "metadata": {},
   "source": [
    "평균 절대오차 간단한 실습 코드"
   ]
  },
  {
   "cell_type": "code",
   "execution_count": 2,
   "metadata": {},
   "outputs": [],
   "source": [
    "import torch\n",
    "import torch.nn as nn\n",
    "import math"
   ]
  },
  {
   "attachments": {},
   "cell_type": "markdown",
   "metadata": {},
   "source": [
    "예측값과 실제값을 입력받아서 MAE 계산하는 함수"
   ]
  },
  {
   "cell_type": "code",
   "execution_count": 3,
   "metadata": {},
   "outputs": [
    {
     "name": "stdout",
     "output_type": "stream",
     "text": [
      "MAE : 0.375\n"
     ]
    }
   ],
   "source": [
    "def calculate_mae(pred, target):\n",
    "    mae = torch.mean(torch.abs(pred-target))\n",
    "    return mae\n",
    "\n",
    "# 예시 데이터\n",
    "pred = torch.tensor([3.1, 4.2, 2.8, 5.3 ])\n",
    "targets = torch.tensor([3.0, 4.0, 3.2, 4.5])\n",
    "\n",
    "# mae 계산\n",
    "mae = calculate_mae(pred, targets)\n",
    "print(f'MAE : {mae.item()}')"
   ]
  },
  {
   "attachments": {},
   "cell_type": "markdown",
   "metadata": {},
   "source": [
    "MSE 구하기"
   ]
  },
  {
   "cell_type": "code",
   "execution_count": 4,
   "metadata": {},
   "outputs": [
    {
     "name": "stdout",
     "output_type": "stream",
     "text": [
      "MSE : 0.21250006556510925\n"
     ]
    }
   ],
   "source": [
    "def calculate_mse(pred, target):\n",
    "    mse = torch.mean((pred-target)**2)\n",
    "    return mse\n",
    "\n",
    "# 예시 데이터\n",
    "pred = torch.tensor([3.1, 4.2, 2.8, 5.3 ])\n",
    "targets = torch.tensor([3.0, 4.0, 3.2, 4.5])\n",
    "\n",
    "# mae 계산\n",
    "mse = calculate_mse(pred, targets)\n",
    "print(f'MSE : {mse.item()}')"
   ]
  },
  {
   "attachments": {},
   "cell_type": "markdown",
   "metadata": {},
   "source": [
    "RMSE 구하기"
   ]
  },
  {
   "cell_type": "code",
   "execution_count": 5,
   "metadata": {},
   "outputs": [
    {
     "name": "stdout",
     "output_type": "stream",
     "text": [
      "RMSE : 0.4609772939799847\n"
     ]
    }
   ],
   "source": [
    "def calculate_rmse(pred, target):\n",
    "    mse = torch.mean((pred-target)**2)\n",
    "    rmse = math.sqrt(mse)\n",
    "    return rmse\n",
    "\n",
    "# 예시 데이터\n",
    "pred = torch.tensor([3.1, 4.2, 2.8, 5.3 ])\n",
    "targets = torch.tensor([3.0, 4.0, 3.2, 4.5])\n",
    "\n",
    "# mae 계산\n",
    "rmse = calculate_rmse(pred, targets)\n",
    "print(f'RMSE : {rmse}')"
   ]
  },
  {
   "attachments": {},
   "cell_type": "markdown",
   "metadata": {},
   "source": [
    "MAPE 구하기"
   ]
  },
  {
   "cell_type": "code",
   "execution_count": 6,
   "metadata": {},
   "outputs": [
    {
     "name": "stdout",
     "output_type": "stream",
     "text": [
      "MAPE : 9.652777671813965\n"
     ]
    }
   ],
   "source": [
    "def calculate_mape(pred, target):\n",
    "    abs_error = (torch.abs(pred-target))\n",
    "    relative_errors = abs_error / target\n",
    "    mape = torch.mean(relative_errors) * 100\n",
    "    return mape\n",
    "\n",
    "# 예시 데이터\n",
    "pred = torch.tensor([3.1, 4.2, 2.8, 5.3 ])\n",
    "targets = torch.tensor([3.0, 4.0, 3.2, 4.5])\n",
    "\n",
    "# mae 계산\n",
    "mape = calculate_mape(pred, targets)\n",
    "print(f'MAPE : {mape.item()}')"
   ]
  },
  {
   "attachments": {},
   "cell_type": "markdown",
   "metadata": {},
   "source": [
    "혼동 오차 행렬"
   ]
  },
  {
   "cell_type": "code",
   "execution_count": 9,
   "metadata": {},
   "outputs": [
    {
     "data": {
      "image/png": "[encoded data removed]",
      "text/plain": [
       "<Figure size 800x600 with 2 Axes>"
      ]
     },
     "metadata": {},
     "output_type": "display_data"
    }
   ],
   "source": [
    "import matplotlib.pyplot as plt \n",
    "import seaborn as sns \n",
    "from sklearn.metrics import confusion_matrix\n",
    "# 실제 레이블\n",
    "true_labels = [0,1,2,2,0,1,2,0,1,2,2]\n",
    "# 예측 레이블\n",
    "pred_labels = [0,2,2,2,1,1,2,1,1,1,2]\n",
    "\n",
    "class_labels = ['class0', 'classl','class2']\n",
    "cm = confusion_matrix(true_labels, pred_labels)\n",
    "\n",
    "plt.figure(figsize= (8,6))\n",
    "sns.heatmap(cm, annot=True, fmt= 'd', cmap='Blues', xticklabels=class_labels, yticklabels=class_labels)\n",
    "plt.xlabel('pred')\n",
    "plt.ylabel('true')\n",
    "plt.show()"
   ]
  }
 ],
 "metadata": {
  "kernelspec": {
   "display_name": "NN2",
   "language": "python",
   "name": "python3"
  },
  "language_info": {
   "codemirror_mode": {
    "name": "ipython",
    "version": 3
   },
   "file_extension": ".py",
   "mimetype": "text/x-python",
   "name": "python",
   "nbconvert_exporter": "python",
   "pygments_lexer": "ipython3",
   "version": "3.11.4"
  },
  "orig_nbformat": 4
 },
 "nbformat": 4,
 "nbformat_minor": 2
}
