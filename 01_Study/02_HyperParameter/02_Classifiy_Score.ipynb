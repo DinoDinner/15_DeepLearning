{
 "cells": [
  {
   "attachments": {},
   "cell_type": "markdown",
   "metadata": {},
   "source": [
    "Precision 정밀도 간단한 실습"
   ]
  },
  {
   "cell_type": "code",
   "execution_count": 5,
   "metadata": {},
   "outputs": [
    {
     "name": "stdout",
     "output_type": "stream",
     "text": [
      "precision :  1.0\n"
     ]
    }
   ],
   "source": [
    "from sklearn.metrics import precision_score\n",
    "\n",
    "actual_labels = [1,0,0,1,1,0,1,1,0,0,1]\n",
    "pred_labels =  [1,0,0,1,1,0,1,1,0,0,1]\n",
    "\n",
    "precision = precision_score(actual_labels, pred_labels)\n",
    "print('precision : ', precision)"
   ]
  },
  {
   "attachments": {},
   "cell_type": "markdown",
   "metadata": {},
   "source": [
    "Recall 재현율 간단한 실습"
   ]
  },
  {
   "cell_type": "code",
   "execution_count": 6,
   "metadata": {},
   "outputs": [
    {
     "name": "stdout",
     "output_type": "stream",
     "text": [
      "recall :  0.42857142857142855\n"
     ]
    }
   ],
   "source": [
    "from sklearn.metrics import recall_score\n",
    "\n",
    "actual_labels = [1,0,0,1,1,0,1,1,0,1,1]\n",
    "pred_labels = [1,1,1,1,0,0,0,0,1,0,1]\n",
    "\n",
    "recall = recall_score(actual_labels, pred_labels)\n",
    "print('recall : ', recall)"
   ]
  },
  {
   "attachments": {},
   "cell_type": "markdown",
   "metadata": {},
   "source": [
    "F1 Score 간단한 실습"
   ]
  },
  {
   "cell_type": "code",
   "execution_count": 15,
   "metadata": {},
   "outputs": [
    {
     "name": "stdout",
     "output_type": "stream",
     "text": [
      "F1 Score >>  0.4615384615384615\n"
     ]
    }
   ],
   "source": [
    "from sklearn.metrics import f1_score\n",
    "\n",
    "actual_labels = [1,0,0,1,1,0,1,1,0,1,1]\n",
    "pred_labels = [1,1,1,1,0,0,0,0,1,0,1]\n",
    "\n",
    "f1 = f1_score(actual_labels, pred_labels)\n",
    "\n",
    "print('F1 Score >> ', f1)"
   ]
  }
 ],
 "metadata": {
  "kernelspec": {
   "display_name": "NN2",
   "language": "python",
   "name": "python3"
  },
  "language_info": {
   "codemirror_mode": {
    "name": "ipython",
    "version": 3
   },
   "file_extension": ".py",
   "mimetype": "text/x-python",
   "name": "python",
   "nbconvert_exporter": "python",
   "pygments_lexer": "ipython3",
   "version": "3.11.4"
  },
  "orig_nbformat": 4
 },
 "nbformat": 4,
 "nbformat_minor": 2
}
