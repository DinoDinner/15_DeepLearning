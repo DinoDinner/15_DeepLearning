{
 "cells": [
  {
   "attachments": {},
   "cell_type": "markdown",
   "metadata": {},
   "source": [
    "라벨 스무딩 적용 여부 비교"
   ]
  },
  {
   "cell_type": "code",
   "execution_count": 1,
   "metadata": {},
   "outputs": [],
   "source": [
    "import torch\n",
    "import torch.nn as nn\n",
    "import torch.optim as optim\n",
    "import torchvision\n",
    "import matplotlib.pyplot as plt\n",
    "\n",
    "from torchvision.transforms import ToTensor"
   ]
  },
  {
   "attachments": {},
   "cell_type": "markdown",
   "metadata": {},
   "source": [
    "사용자 정의 손실함수(라벨 스무딩 적용 크로스 엔트로피)"
   ]
  },
  {
   "cell_type": "code",
   "execution_count": 2,
   "metadata": {},
   "outputs": [],
   "source": [
    "class LabelSmoothigLoss(nn.Module): # 사용자 정의 손실 함수\n",
    "    def __init__(self, num_classes, smoothing=0.0):\n",
    "        super(LabelSmoothigLoss, self).__init__()\n",
    "        self.num_classes = num_classes  # 분류 문제 : 클래스 개수\n",
    "        self.smoothing = smoothing  # 라벨 적용되는 스무딩 정도 제어 값 -> 기본 0.0 스무딩 적용 x\n",
    "        self.confidence = 1.0 - smoothing   # 스무딩 보정값 (정답에 대한 신뢰도 점수)\n",
    "        \n",
    "    def forward(self, pred, target) : # pred : 예측값, target : 정답지\n",
    "        one_hot = torch.zeros_like(pred).scatter(1, target.unsqueeze(1), 1) # one_hot 인코딩 텐서 생성\n",
    "        smooth_label = one_hot * self.confidence + (1 - one_hot) * self.smoothing / (self.num_classes - 1)\n",
    "        # one_hot encoding 텐서에서 라벨 스무딩을 적용 -> 신뢰도 점수\n",
    "        loss = torch.sum(-smooth_label * torch.log_softmax(pred, dim=1), dim=1)\n",
    "        # 스무딩 처리된 라벨과 예측 확률간 교차 엔트로피 사용해서 loss 계산 -> log_softmax 확률과 라벨스무딩 요소 곱을 통해 수행\n",
    "        \n",
    "        return torch.mean(loss) # 평균 손실 구해 주고 반환"
   ]
  },
  {
   "attachments": {},
   "cell_type": "markdown",
   "metadata": {},
   "source": [
    "모델 정의"
   ]
  },
  {
   "cell_type": "code",
   "execution_count": 3,
   "metadata": {},
   "outputs": [],
   "source": [
    "class MyModel(nn.Module):\n",
    "    def __init__(self):\n",
    "        super(MyModel, self).__init__()\n",
    "        self.conv1 = nn.Conv2d(1, 32, kernel_size=3)\n",
    "        self.relu1 = nn.ReLU(inplace=True)\n",
    "        self.pool1 = nn.MaxPool2d(kernel_size=2)\n",
    "        \n",
    "        self.conv2 = nn.Conv2d(32, 64, kernel_size=3)\n",
    "        self.relu2 = nn.ReLU(inplace=True)\n",
    "        self.pool2 = nn.MaxPool2d(kernel_size=2)\n",
    "        \n",
    "        self.flatten = nn.Flatten()\n",
    "        self.fc1 = nn.Linear(64 * 5 * 5, 128)\n",
    "        self.relu3 = nn.ReLU(inplace=True)\n",
    "        self.fc2 = nn.Linear(128, 10)\n",
    "        \n",
    "    def forward(self, x):\n",
    "        x = self.conv1(x)\n",
    "        x = self.relu1(x)\n",
    "        x = self.pool1(x)\n",
    "        \n",
    "        x = self.conv2(x)\n",
    "        x = self.relu2(x)\n",
    "        x = self.pool2(x)\n",
    "        \n",
    "        x = self.flatten(x)\n",
    "        x = self.fc1(x)\n",
    "        x = self.relu3(x)\n",
    "        x = self.fc2(x)\n",
    "        \n",
    "        return x"
   ]
  },
  {
   "attachments": {},
   "cell_type": "markdown",
   "metadata": {},
   "source": [
    "데이터셋 로드 및 전처리"
   ]
  },
  {
   "cell_type": "code",
   "execution_count": 8,
   "metadata": {},
   "outputs": [],
   "source": [
    "train_dataset = torchvision.datasets.FashionMNIST(root='../99_StudyFiles/02_Data/', train=False, transform=ToTensor(), download=True)\n",
    "train_dataloader = torch.utils.data.DataLoader(train_dataset, batch_size=64, shuffle=True)"
   ]
  },
  {
   "attachments": {},
   "cell_type": "markdown",
   "metadata": {},
   "source": [
    "모델 정의"
   ]
  },
  {
   "cell_type": "code",
   "execution_count": 9,
   "metadata": {},
   "outputs": [
    {
     "name": "stdout",
     "output_type": "stream",
     "text": [
      "MyModel(\n",
      "  (conv1): Conv2d(1, 32, kernel_size=(3, 3), stride=(1, 1))\n",
      "  (relu1): ReLU(inplace=True)\n",
      "  (pool1): MaxPool2d(kernel_size=2, stride=2, padding=0, dilation=1, ceil_mode=False)\n",
      "  (conv2): Conv2d(32, 64, kernel_size=(3, 3), stride=(1, 1))\n",
      "  (relu2): ReLU(inplace=True)\n",
      "  (pool2): MaxPool2d(kernel_size=2, stride=2, padding=0, dilation=1, ceil_mode=False)\n",
      "  (flatten): Flatten(start_dim=1, end_dim=-1)\n",
      "  (fc1): Linear(in_features=1600, out_features=128, bias=True)\n",
      "  (relu3): ReLU(inplace=True)\n",
      "  (fc2): Linear(in_features=128, out_features=10, bias=True)\n",
      ")\n"
     ]
    }
   ],
   "source": [
    "model = MyModel()\n",
    "print(model)"
   ]
  },
  {
   "attachments": {},
   "cell_type": "markdown",
   "metadata": {},
   "source": [
    "옵티마이저 설정, loss 함수 설정"
   ]
  },
  {
   "cell_type": "code",
   "execution_count": 10,
   "metadata": {},
   "outputs": [],
   "source": [
    "# 옵티마이저 설정\n",
    "optimizer = optim.SGD(model.parameters(), lr=0.001,momentum=0.9)\n",
    "\n",
    "# 손실함수 정의\n",
    "num_classes = 10\n",
    "smoothing = 0.2\n",
    "criterion = LabelSmoothigLoss(num_classes, smoothing)\n",
    "no_criterion = LabelSmoothigLoss(num_classes, smoothing)"
   ]
  },
  {
   "attachments": {},
   "cell_type": "markdown",
   "metadata": {},
   "source": [
    "학습루프"
   ]
  },
  {
   "cell_type": "code",
   "execution_count": 12,
   "metadata": {},
   "outputs": [],
   "source": [
    "num_epochs = 20\n",
    "train_losses_no_smothing = []\n",
    "train_losses_smothing = []\n",
    "\n",
    "for epoch in range(num_epochs) : \n",
    "    train_losses_no_smothing_temp = 0.0 \n",
    "    train_losses_smothing_temp = 0.0\n",
    "    \n",
    "    for images, labels in train_dataloader :\n",
    "        \n",
    "        optimizer.zero_grad()\n",
    "        \n",
    "        # 라벨 스무딩 적용 하지 않는 경우 \n",
    "        outputs_no_smothing = model(images)\n",
    "        loss_no_smothing = no_criterion(outputs_no_smothing, labels)\n",
    "        loss_no_smothing.backward()\n",
    "        optimizer.step()\n",
    "        train_losses_no_smothing_temp += loss_no_smothing.item()\n",
    "        \n",
    "        # 라벨 스무딩 적용한 경우 \n",
    "        outputs_smothing = model(images)\n",
    "        loss_smothing = criterion(outputs_smothing, labels)\n",
    "        loss_smothing.backward()\n",
    "        optimizer.step()\n",
    "        train_losses_smothing_temp += loss_smothing.item()\n",
    "        \n",
    "    # 에포크 마다 손실 기록 \n",
    "    train_losses_no_smothing.append(train_losses_no_smothing_temp / len(train_dataloader))\n",
    "    train_losses_smothing.append(train_losses_smothing_temp / len(train_dataloader))"
   ]
  },
  {
   "cell_type": "code",
   "execution_count": 13,
   "metadata": {},
   "outputs": [
    {
     "data": {
      "image/png": "[encoded data removed]",
      "text/plain": [
       "<Figure size 640x480 with 1 Axes>"
      ]
     },
     "metadata": {},
     "output_type": "display_data"
    }
   ],
   "source": [
    "epochs = range(1, num_epochs +1 )\n",
    "\n",
    "plt.plot(epochs, train_losses_no_smothing, label='No Smothing')\n",
    "plt.plot(epochs, train_losses_smothing, label='Smothing')\n",
    "plt.xlabel('Epoch')\n",
    "plt.ylabel('loss')\n",
    "plt.legend()\n",
    "plt.show()"
   ]
  }
 ],
 "metadata": {
  "kernelspec": {
   "display_name": "NN2",
   "language": "python",
   "name": "python3"
  },
  "language_info": {
   "codemirror_mode": {
    "name": "ipython",
    "version": 3
   },
   "file_extension": ".py",
   "mimetype": "text/x-python",
   "name": "python",
   "nbconvert_exporter": "python",
   "pygments_lexer": "ipython3",
   "version": "3.11.4"
  },
  "orig_nbformat": 4
 },
 "nbformat": 4,
 "nbformat_minor": 2
}
